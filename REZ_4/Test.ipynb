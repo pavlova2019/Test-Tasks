{
 "cells": [
  {
   "cell_type": "code",
   "execution_count": 109,
   "id": "9bba8041",
   "metadata": {},
   "outputs": [],
   "source": [
    "import os\n",
    "import pandas as pd\n",
    "import numpy as np\n",
    "import random\n",
    "\n",
    "from sklearn.feature_extraction.text import CountVectorizer\n",
    "from sklearn.model_selection import train_test_split\n",
    "from sklearn.naive_bayes import MultinomialNB\n",
    "from sklearn.linear_model import LogisticRegression"
   ]
  },
  {
   "cell_type": "markdown",
   "id": "eaf87c33",
   "metadata": {},
   "source": [
    "## Text Dataset\n",
    "Terry Pratchett + other books"
   ]
  },
  {
   "cell_type": "code",
   "execution_count": 93,
   "id": "cb290da2",
   "metadata": {},
   "outputs": [],
   "source": [
    "text_examples = set()\n",
    "\n",
    "pratchett_plus_path = \"/home/alex/Proga/proj/pratchett\"\n",
    "\n",
    "def collect_text(path):\n",
    "    for file in os.listdir(path):\n",
    "        cur_path = os.path.join(path, file)\n",
    "        if os.path.isdir(cur_path):\n",
    "            collect_code(cur_path)\n",
    "        elif os.path.isfile(cur_path):\n",
    "            if file.endswith(\".txt\") or file.endswith(\".fb2\"):\n",
    "                comment = 0\n",
    "                for line in open(cur_path, 'r'):\n",
    "                    ln = line.strip()\n",
    "                    if not len(ln):\n",
    "                        continue\n",
    "                    i = 0\n",
    "                    while i < len(ln):\n",
    "                        chunk_size = random.randint(10, 50)\n",
    "                        text_examples.add(ln[i : min(len(ln), i + chunk_size)])                        \n",
    "                        i += chunk_size\n",
    "\n",
    "collect_text(pratchett_plus_path)    "
   ]
  },
  {
   "cell_type": "code",
   "execution_count": 94,
   "id": "552f8e8c",
   "metadata": {},
   "outputs": [
    {
     "data": {
      "text/plain": [
       "(496422, 2)"
      ]
     },
     "execution_count": 94,
     "metadata": {},
     "output_type": "execute_result"
    }
   ],
   "source": [
    "pd_text = pd.DataFrame(data={\n",
    "    'marker': np.ones(len(text_examples), int), 'line': list(text_examples),\n",
    "})\n",
    "pd_text.shape"
   ]
  },
  {
   "cell_type": "markdown",
   "id": "42046a5e",
   "metadata": {},
   "source": [
    "## Code Dataset\n",
    "https://github.com/pytorch/pytorch"
   ]
  },
  {
   "cell_type": "code",
   "execution_count": 86,
   "id": "23aa2e20",
   "metadata": {
    "scrolled": false
   },
   "outputs": [],
   "source": [
    "code_examples = set()\n",
    "\n",
    "pytorch_path = \"/home/alex/Proga/proj/pytorch\"\n",
    "\n",
    "def collect_code(path):\n",
    "    for file in os.listdir(path):\n",
    "        cur_path = os.path.join(path, file)\n",
    "        if os.path.isdir(cur_path):\n",
    "            collect_code(cur_path)\n",
    "        elif os.path.isfile(cur_path):\n",
    "            if file.endswith(\".cpp\"):\n",
    "                comment = 0\n",
    "                for line in open(cur_path, 'r'):\n",
    "                    ln = line.strip()\n",
    "                    if not len(ln):\n",
    "                        continue\n",
    "                    if ln.find(\"/*\") != -1:\n",
    "                        comment = 1\n",
    "                    if ln.find(\"*/\") != -1:\n",
    "                        comment = 0\n",
    "                    if comment == 1 or ln.find(\"//\") != -1:\n",
    "                        continue\n",
    "                    code_examples.add(ln)\n",
    "                \n",
    "collect_code(pytorch_path)    "
   ]
  },
  {
   "cell_type": "code",
   "execution_count": 87,
   "id": "990216a3",
   "metadata": {
    "scrolled": true
   },
   "outputs": [
    {
     "data": {
      "text/plain": [
       "(274334, 2)"
      ]
     },
     "execution_count": 87,
     "metadata": {},
     "output_type": "execute_result"
    }
   ],
   "source": [
    "pd_code = pd.DataFrame(data={\n",
    "    'marker': np.zeros(len(code_examples), int), 'line': list(code_examples),\n",
    "})\n",
    "pd_code.shape"
   ]
  },
  {
   "cell_type": "markdown",
   "id": "194aae07",
   "metadata": {},
   "source": [
    "## Combined Dataset"
   ]
  },
  {
   "cell_type": "code",
   "execution_count": 95,
   "id": "68017083",
   "metadata": {},
   "outputs": [
    {
     "data": {
      "text/plain": [
       "(770756, 2)"
      ]
     },
     "execution_count": 95,
     "metadata": {},
     "output_type": "execute_result"
    }
   ],
   "source": [
    "data = pd.concat([pd_code, pd_text], ignore_index=True)\n",
    "data = data.sample(frac=1).reset_index(drop=True)\n",
    "data.to_csv('data.csv', index=False)\n",
    "data.shape"
   ]
  },
  {
   "cell_type": "code",
   "execution_count": 96,
   "id": "fc7dd8cd",
   "metadata": {
    "scrolled": false
   },
   "outputs": [
    {
     "data": {
      "text/html": [
       "<div>\n",
       "<style scoped>\n",
       "    .dataframe tbody tr th:only-of-type {\n",
       "        vertical-align: middle;\n",
       "    }\n",
       "\n",
       "    .dataframe tbody tr th {\n",
       "        vertical-align: top;\n",
       "    }\n",
       "\n",
       "    .dataframe thead th {\n",
       "        text-align: right;\n",
       "    }\n",
       "</style>\n",
       "<table border=\"1\" class=\"dataframe\">\n",
       "  <thead>\n",
       "    <tr style=\"text-align: right;\">\n",
       "      <th></th>\n",
       "      <th>marker</th>\n",
       "      <th>line</th>\n",
       "    </tr>\n",
       "  </thead>\n",
       "  <tbody>\n",
       "    <tr>\n",
       "      <th>0</th>\n",
       "      <td>0</td>\n",
       "      <td>return max_ws_size;</td>\n",
       "    </tr>\n",
       "    <tr>\n",
       "      <th>1</th>\n",
       "      <td>0</td>\n",
       "      <td>void IRPrinter::visit(VarPtr v) {</td>\n",
       "    </tr>\n",
       "    <tr>\n",
       "      <th>2</th>\n",
       "      <td>0</td>\n",
       "      <td>480709,</td>\n",
       "    </tr>\n",
       "    <tr>\n",
       "      <th>3</th>\n",
       "      <td>1</td>\n",
       "      <td>A wise man feareth, and departeth from evil: but</td>\n",
       "    </tr>\n",
       "    <tr>\n",
       "      <th>4</th>\n",
       "      <td>1</td>\n",
       "      <td>before him, and causeth the earth and th</td>\n",
       "    </tr>\n",
       "    <tr>\n",
       "      <th>5</th>\n",
       "      <td>1</td>\n",
       "      <td>he did so, and giving it a</td>\n",
       "    </tr>\n",
       "    <tr>\n",
       "      <th>6</th>\n",
       "      <td>0</td>\n",
       "      <td>dropout_p_(dropout_p),</td>\n",
       "    </tr>\n",
       "    <tr>\n",
       "      <th>7</th>\n",
       "      <td>0</td>\n",
       "      <td>using AllocationInfoPtr = AllocationUseDefInfo*;</td>\n",
       "    </tr>\n",
       "    <tr>\n",
       "      <th>8</th>\n",
       "      <td>1</td>\n",
       "      <td>ng.And this evening was a</td>\n",
       "    </tr>\n",
       "    <tr>\n",
       "      <th>9</th>\n",
       "      <td>1</td>\n",
       "      <td>lm</td>\n",
       "    </tr>\n",
       "  </tbody>\n",
       "</table>\n",
       "</div>"
      ],
      "text/plain": [
       "   marker                                              line\n",
       "0       0                               return max_ws_size;\n",
       "1       0                 void IRPrinter::visit(VarPtr v) {\n",
       "2       0                                           480709,\n",
       "3       1  A wise man feareth, and departeth from evil: but\n",
       "4       1          before him, and causeth the earth and th\n",
       "5       1                        he did so, and giving it a\n",
       "6       0                            dropout_p_(dropout_p),\n",
       "7       0  using AllocationInfoPtr = AllocationUseDefInfo*;\n",
       "8       1                         ng.And this evening was a\n",
       "9       1                                                lm"
      ]
     },
     "execution_count": 96,
     "metadata": {},
     "output_type": "execute_result"
    }
   ],
   "source": [
    "data.head(10)"
   ]
  },
  {
   "cell_type": "markdown",
   "id": "7bae0c41",
   "metadata": {},
   "source": [
    "## Make vectors from strings"
   ]
  },
  {
   "cell_type": "code",
   "execution_count": 101,
   "id": "1419aa26",
   "metadata": {},
   "outputs": [],
   "source": [
    "cv = CountVectorizer()\n",
    "cnts = cv.fit_transform(data['line'])"
   ]
  },
  {
   "cell_type": "code",
   "execution_count": 103,
   "id": "1b685302",
   "metadata": {},
   "outputs": [],
   "source": [
    "X_tr, X_te, Y_tr, Y_te = train_test_split(cnts, data['marker'], test_size=0.2, random_state=533)"
   ]
  },
  {
   "cell_type": "code",
   "execution_count": 112,
   "id": "984df245",
   "metadata": {},
   "outputs": [],
   "source": [
    "model_NB = MultinomialNB().fit(X_tr, Y_tr)\n",
    "model_LR = LogisticRegression(max_iter=1000, multi_class='ovr').fit(X_tr, Y_tr)"
   ]
  },
  {
   "cell_type": "code",
   "execution_count": 111,
   "id": "c8c6e844",
   "metadata": {},
   "outputs": [
    {
     "data": {
      "text/plain": [
       "0.9649826145622502"
      ]
     },
     "execution_count": 111,
     "metadata": {},
     "output_type": "execute_result"
    }
   ],
   "source": [
    "model_NB.score(X_te, Y_te)"
   ]
  },
  {
   "cell_type": "code",
   "execution_count": 113,
   "id": "6e885515",
   "metadata": {},
   "outputs": [
    {
     "data": {
      "text/plain": [
       "0.9807916861279776"
      ]
     },
     "execution_count": 113,
     "metadata": {},
     "output_type": "execute_result"
    }
   ],
   "source": [
    "model_LR.score(X_te, Y_te)"
   ]
  }
 ],
 "metadata": {
  "kernelspec": {
   "display_name": "Python 3 (ipykernel)",
   "language": "python",
   "name": "python3"
  },
  "language_info": {
   "codemirror_mode": {
    "name": "ipython",
    "version": 3
   },
   "file_extension": ".py",
   "mimetype": "text/x-python",
   "name": "python",
   "nbconvert_exporter": "python",
   "pygments_lexer": "ipython3",
   "version": "3.9.2"
  }
 },
 "nbformat": 4,
 "nbformat_minor": 5
}
